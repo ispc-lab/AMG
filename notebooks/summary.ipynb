{
 "cells": [
  {
   "cell_type": "code",
   "execution_count": 11,
   "id": "241796f5",
   "metadata": {},
   "outputs": [],
   "source": [
    "import warnings\n",
    "warnings.filterwarnings(\"ignore\")\n",
    "import os\n",
    "import numpy as np\n",
    "import pandas as pd\n",
    "from rdkit import Chem, rdBase, DataStructs\n",
    "from rdkit.Chem import AllChem, Draw, Descriptors, PandasTools\n",
    "from rdkit.Chem.Draw import IPythonConsole\n",
    "from rdkit.Chem.QED import qed\n",
    "from rdkit.Chem import QED, rdMolDescriptors, FilterCatalog\n",
    "from utils.docking import cal_docking\n",
    "from utils.metric import *\n",
    "from rdkit.Chem.rdForceFieldHelpers import UFFOptimizeMolecule\n",
    "from rdkit.Chem.Descriptors import qed\n",
    "from utils.sascorer import compute_sa_score\n",
    "from utils.misc import *\n",
    "import matplotlib.pyplot as plt\n",
    "from tabulate import tabulate"
   ]
  },
  {
   "cell_type": "code",
   "execution_count": 12,
   "id": "33fd17ab",
   "metadata": {},
   "outputs": [],
   "source": [
    "# Load configs\n",
    "config = load_config('./configs/rl.yml')\n",
    "seed_all(config.sample.seed)"
   ]
  },
  {
   "cell_type": "code",
   "execution_count": 13,
   "id": "5041e12d",
   "metadata": {},
   "outputs": [],
   "source": [
    "sort_metric = 'Qvina' # Qvina QED SA \n",
    "\n",
    "ours_path = 'eval_results/baselines_results/AMG.pt'\n",
    "flag_path = 'eval_results/baselines_results/FLAG.pt'\n",
    "resgen_path = 'eval_results/baselines_results/ResGen.pt'\n",
    "decompdiff_path = 'eval_results/baselines_results/DecompDiff.pt'\n",
    "targetdiff_path = 'eval_results/baselines_results/TargetDiff.pt'\n",
    "pocket2mol_path = 'eval_results/baselines_results/Pocket2Mol.pt'"
   ]
  },
  {
   "cell_type": "markdown",
   "id": "f0c05db9",
   "metadata": {},
   "source": [
    "## Cal metrics"
   ]
  },
  {
   "cell_type": "code",
   "execution_count": 14,
   "id": "7bb35865",
   "metadata": {},
   "outputs": [],
   "source": [
    "def cal_high_affinity(results, top_num, sort_metric, test_path='eval_results/baselines_results/testset.pt'):\n",
    "    high_affinity_result = []\n",
    "    mpbg_list = []\n",
    "    test_results = torch.load(test_path)\n",
    "    \n",
    "    for test_name, test_df in test_results.items():\n",
    "        for result_name, result_df in results.items():\n",
    "            if test_name.split('-')[0] == result_name.split('-')[0]:\n",
    "                test_value = test_df['Qvina'].mean()\n",
    "                results_value = result_df.head(100) \n",
    "                 \n",
    "                if sort_metric == 'Qvina':\n",
    "                    results_value.sort_values(by=sort_metric, inplace=True, ascending=True)\n",
    "                else:\n",
    "                    results_value.sort_values(by=sort_metric, inplace=True, ascending=False)  \n",
    "          \n",
    "                # cal MPBG\n",
    "                min_test_value = test_df['Qvina'].mean()\n",
    "                sum_mpbg = 0\n",
    "                lenth = 0\n",
    "         \n",
    "                for qvina in results_value.head(top_num)['Qvina'].values:\n",
    "                    if not np.isnan(qvina):\n",
    "                        sum_mpbg += ((min_test_value - qvina) / min_test_value)\n",
    "                        lenth += 1\n",
    "\n",
    "                if lenth:\n",
    "                    mpbg_list.append(sum_mpbg / lenth)\n",
    "                else:\n",
    "                    mpbg_list.append(0)\n",
    "                    \n",
    "                results_value = results_value.head(top_num)\n",
    "                high_affinity = (results_value['Qvina'] < test_value).sum()\n",
    "                high_affinity_result.append((high_affinity / top_num))\n",
    "   \n",
    "    return np.mean(high_affinity_result), np.mean(mpbg_list)\n",
    "\n",
    "\n",
    "def get_top_n_dfs(df, top_n_list):\n",
    "    \"\"\"\n",
    "    Returns a dictionary of DataFrames for each specified top N.\n",
    "    \"\"\"\n",
    "    return {n: df.head(n) for n in top_n_list}\n",
    "\n",
    "def calculate_statistics(results, top_dfs, top_nums, sort_metric):\n",
    "    \"\"\"\n",
    "    Calculates statistics for given top N DataFrames, adds a title, and prints them in a table format with top N as rows.\n",
    "    \"\"\"\n",
    "    all_stats = []\n",
    "    for top_num in top_nums:\n",
    "        top_df = top_dfs[top_num]\n",
    "        top_mean = top_df.mean().round(3)\n",
    "        top_std = top_df.std().round(2)\n",
    "\n",
    "        high_affinity_mean, mpbg_mean = cal_high_affinity(results, top_num, sort_metric)\n",
    "\n",
    "        stats = {\n",
    "            'Top': f'Top {top_num}',\n",
    "            'Qvina': f\"{top_mean['Qvina']} ± {top_std['Qvina']}\",\n",
    "            'HA': f\"{high_affinity_mean.round(3)}\",\n",
    "            'MPBG': f\"{mpbg_mean.round(2)}\",\n",
    "            'QED': f\"{top_mean['QED']} ± {top_std['QED']}\",\n",
    "            'SA': f\"{top_mean['SA']} ± {top_std['SA']}\",\n",
    "            'Lipinski': f\"{top_mean['Lip']} ± {top_std['Lip']}\",  \n",
    "        }\n",
    "\n",
    "        all_stats.append(stats)\n",
    "\n",
    "    stats_df = pd.DataFrame(all_stats).set_index('Top')\n",
    "    print(tabulate(stats_df, headers='keys', tablefmt='pretty', showindex=True))\n",
    "    \n",
    "def cal_result(path, sort_metric, show_result=False, return_df=False):\n",
    "    top_n_list = [1, 3, 5, 10]\n",
    "    top_dfs = {n: [] for n in top_n_list}\n",
    "    \n",
    "    results = torch.load(path)\n",
    " \n",
    "    for name, df in results.items():\n",
    "        eval_df = df.copy() \n",
    "        eval_df = eval_df.head(100)        \n",
    "        if sort_metric == 'Qvina':\n",
    "            eval_df.sort_values(by=sort_metric, inplace=True, ascending=True)\n",
    "        else:\n",
    "            eval_df.sort_values(by=sort_metric, inplace=True, ascending=False)\n",
    "  \n",
    "        for n, top_df in get_top_n_dfs(eval_df, top_n_list).items():\n",
    "            top_dfs[n].append(top_df)\n",
    "    \n",
    "    top_dfs = {n: pd.concat(dfs) for n, dfs in top_dfs.items()}\n",
    "    if return_df:\n",
    "        return top_dfs\n",
    "    if show_result:\n",
    "        calculate_statistics(results, top_dfs, top_n_list, sort_metric)\n"
   ]
  },
  {
   "cell_type": "markdown",
   "id": "3da01999",
   "metadata": {},
   "source": [
    "## Ours"
   ]
  },
  {
   "cell_type": "code",
   "execution_count": 15,
   "id": "1828319f",
   "metadata": {},
   "outputs": [
    {
     "name": "stdout",
     "output_type": "stream",
     "text": [
      "+--------+----------------+-------+-------+--------------+--------------+--------------+\n",
      "|  Top   |     Qvina      |  HA   | MPBG  |     QED      |      SA      |   Lipinski   |\n",
      "+--------+----------------+-------+-------+--------------+--------------+--------------+\n",
      "| Top 1  | -10.201 ± 1.62 | 0.98  | -1.52 | 0.524 ± 0.15 | 0.514 ± 0.1  | 4.82 ± 0.39  |\n",
      "| Top 3  | -9.765 ± 1.51  | 0.973 | -1.43 | 0.538 ± 0.15 | 0.514 ± 0.11 | 4.893 ± 0.31 |\n",
      "| Top 5  | -9.508 ± 1.47  | 0.958 | -1.37 | 0.553 ± 0.15 | 0.512 ± 0.1  | 4.91 ± 0.29  |\n",
      "| Top 10 | -9.102 ± 1.42  | 0.928 | -1.27 | 0.56 ± 0.14  | 0.515 ± 0.11 | 4.932 ± 0.25 |\n",
      "+--------+----------------+-------+-------+--------------+--------------+--------------+\n"
     ]
    }
   ],
   "source": [
    "cal_result(ours_path, sort_metric, show_result=True)  "
   ]
  },
  {
   "cell_type": "markdown",
   "id": "8ed3b4be",
   "metadata": {},
   "source": [
    "## FLAG"
   ]
  },
  {
   "cell_type": "code",
   "execution_count": 16,
   "id": "b44ebe08",
   "metadata": {},
   "outputs": [
    {
     "name": "stdout",
     "output_type": "stream",
     "text": [
      "+--------+---------------+-------+-------+--------------+--------------+--------------+\n",
      "|  Top   |     Qvina     |  HA   | MPBG  |     QED      |      SA      |   Lipinski   |\n",
      "+--------+---------------+-------+-------+--------------+--------------+--------------+\n",
      "| Top 1  | -9.837 ± 1.6  | 0.96  | -1.45 | 0.436 ± 0.17 | 0.397 ± 0.13 | 4.28 ± 0.94  |\n",
      "| Top 3  | -9.414 ± 1.48 | 0.93  | -1.34 | 0.458 ± 0.17 | 0.406 ± 0.12 | 4.377 ± 0.83 |\n",
      "| Top 5  | -9.159 ± 1.42 | 0.908 | -1.29 | 0.468 ± 0.16 | 0.406 ± 0.12 | 4.432 ± 0.81 |\n",
      "| Top 10 | -8.756 ± 1.37 | 0.873 | -1.19 | 0.476 ± 0.16 | 0.415 ± 0.12 | 4.493 ± 0.76 |\n",
      "+--------+---------------+-------+-------+--------------+--------------+--------------+\n"
     ]
    }
   ],
   "source": [
    "cal_result(flag_path, sort_metric, show_result=True) "
   ]
  },
  {
   "cell_type": "markdown",
   "id": "3d2b75d0",
   "metadata": {},
   "source": [
    "## ResGen"
   ]
  },
  {
   "cell_type": "code",
   "execution_count": 17,
   "id": "f19fc98b",
   "metadata": {},
   "outputs": [
    {
     "name": "stdout",
     "output_type": "stream",
     "text": [
      "+--------+---------------+-------+-------+--------------+--------------+--------------+\n",
      "|  Top   |     Qvina     |  HA   | MPBG  |     QED      |      SA      |   Lipinski   |\n",
      "+--------+---------------+-------+-------+--------------+--------------+--------------+\n",
      "| Top 1  | -8.693 ± 2.3  | 0.91  | -0.96 | 0.567 ± 0.15 | 0.796 ± 0.12 | 4.94 ± 0.28  |\n",
      "| Top 3  | -8.429 ± 2.25 | 0.883 | -0.89 | 0.566 ± 0.16 | 0.804 ± 0.12 | 4.913 ± 0.33 |\n",
      "| Top 5  | -8.292 ± 2.21 | 0.856 | -0.85 | 0.571 ± 0.16 | 0.802 ± 0.11 | 4.912 ± 0.34 |\n",
      "| Top 10 | -8.083 ± 2.16 | 0.824 | -0.8  | 0.579 ± 0.16 |  0.8 ± 0.11  | 4.908 ± 0.34 |\n",
      "+--------+---------------+-------+-------+--------------+--------------+--------------+\n"
     ]
    }
   ],
   "source": [
    "cal_result(resgen_path, sort_metric, show_result=True) "
   ]
  },
  {
   "cell_type": "markdown",
   "id": "2e967d1a",
   "metadata": {},
   "source": [
    "## DecompDiff"
   ]
  },
  {
   "cell_type": "code",
   "execution_count": 18,
   "id": "cd171eab",
   "metadata": {},
   "outputs": [
    {
     "name": "stdout",
     "output_type": "stream",
     "text": [
      "+--------+---------------+-------+-------+--------------+--------------+--------------+\n",
      "|  Top   |     Qvina     |  HA   | MPBG  |     QED      |      SA      |   Lipinski   |\n",
      "+--------+---------------+-------+-------+--------------+--------------+--------------+\n",
      "| Top 1  | -8.485 ± 1.99 | 0.95  | -0.99 | 0.552 ± 0.19 | 0.656 ± 0.15 | 4.51 ± 0.82  |\n",
      "| Top 3  | -8.116 ± 2.03 | 0.92  | -0.78 | 0.544 ± 0.2  | 0.66 ± 0.15  | 4.517 ± 0.85 |\n",
      "| Top 5  | -7.946 ± 2.01 | 0.906 | -0.72 | 0.541 ± 0.2  | 0.662 ± 0.15 | 4.492 ± 0.89 |\n",
      "| Top 10 | -7.715 ± 1.97 | 0.864 | -0.65 | 0.539 ± 0.21 | 0.666 ± 0.15 | 4.435 ± 0.96 |\n",
      "+--------+---------------+-------+-------+--------------+--------------+--------------+\n"
     ]
    }
   ],
   "source": [
    "cal_result(decompdiff_path, sort_metric, show_result=True) "
   ]
  },
  {
   "cell_type": "markdown",
   "id": "b3e08e7c",
   "metadata": {},
   "source": [
    "## TargetDiff"
   ]
  },
  {
   "cell_type": "code",
   "execution_count": 19,
   "id": "af367ba8",
   "metadata": {},
   "outputs": [
    {
     "name": "stdout",
     "output_type": "stream",
     "text": [
      "+--------+---------------+-------+-------+--------------+--------------+--------------+\n",
      "|  Top   |     Qvina     |  HA   | MPBG  |     QED      |      SA      |   Lipinski   |\n",
      "+--------+---------------+-------+-------+--------------+--------------+--------------+\n",
      "| Top 1  | -9.278 ± 1.75 | 0.94  | -1.22 | 0.426 ± 0.2  | 0.476 ± 0.12 | 4.42 ± 0.82  |\n",
      "| Top 3  | -8.892 ± 1.68 | 0.923 | -1.12 | 0.457 ± 0.21 | 0.502 ± 0.12 | 4.453 ± 0.88 |\n",
      "| Top 5  | -8.686 ± 1.65 | 0.908 | -1.07 | 0.453 ± 0.21 | 0.511 ± 0.12 | 4.446 ± 0.87 |\n",
      "| Top 10 | -8.37 ± 1.61  | 0.885 | -1.0  | 0.466 ± 0.2  | 0.523 ± 0.12 | 4.519 ± 0.79 |\n",
      "+--------+---------------+-------+-------+--------------+--------------+--------------+\n"
     ]
    }
   ],
   "source": [
    "cal_result(targetdiff_path, sort_metric, show_result=True) "
   ]
  },
  {
   "cell_type": "markdown",
   "id": "ac4a1ca8",
   "metadata": {},
   "source": [
    "## Pocket2Mol"
   ]
  },
  {
   "cell_type": "code",
   "execution_count": 20,
   "id": "7a22b62e",
   "metadata": {},
   "outputs": [
    {
     "name": "stdout",
     "output_type": "stream",
     "text": [
      "+--------+---------------+-------+-------+--------------+--------------+--------------+\n",
      "|  Top   |     Qvina     |  HA   | MPBG  |     QED      |      SA      |   Lipinski   |\n",
      "+--------+---------------+-------+-------+--------------+--------------+--------------+\n",
      "| Top 1  | -8.785 ± 2.88 | 0.88  | -0.95 | 0.517 ± 0.14 | 0.778 ± 0.13 | 4.95 ± 0.22  |\n",
      "| Top 3  | -8.525 ± 2.9  | 0.827 | -0.86 | 0.525 ± 0.15 | 0.777 ± 0.12 | 4.947 ± 0.24 |\n",
      "| Top 5  | -8.395 ± 2.88 | 0.804 | -0.81 | 0.528 ± 0.15 | 0.781 ± 0.12 | 4.946 ± 0.24 |\n",
      "| Top 10 | -8.19 ± 2.83  | 0.771 | -0.76 | 0.53 ± 0.15  | 0.78 ± 0.12  | 4.941 ± 0.28 |\n",
      "+--------+---------------+-------+-------+--------------+--------------+--------------+\n"
     ]
    }
   ],
   "source": [
    "cal_result(pocket2mol_path, sort_metric, show_result=True) "
   ]
  }
 ],
 "metadata": {
  "kernelspec": {
   "display_name": "Python 3 (ipykernel)",
   "language": "python",
   "name": "python3"
  },
  "language_info": {
   "codemirror_mode": {
    "name": "ipython",
    "version": 3
   },
   "file_extension": ".py",
   "mimetype": "text/x-python",
   "name": "python",
   "nbconvert_exporter": "python",
   "pygments_lexer": "ipython3",
   "version": "3.7.16"
  }
 },
 "nbformat": 4,
 "nbformat_minor": 5
}
