{
 "cells": [
  {
   "cell_type": "code",
   "execution_count": null,
   "id": "241796f5",
   "metadata": {},
   "outputs": [],
   "source": [
    "import warnings\n",
    "warnings.filterwarnings(\"ignore\", category=FutureWarning)\n",
    "import os\n",
    "import numpy as np\n",
    "import pandas as pd\n",
    "from rdkit import Chem\n",
    "from utils.docking import cal_docking\n",
    "from utils.metric import *\n",
    "from rdkit.Chem.rdForceFieldHelpers import UFFOptimizeMolecule\n",
    "from rdkit.Chem.Descriptors import MolLogP, qed\n",
    "from utils.sascorer import compute_sa_score\n",
    "from utils.misc import *\n",
    "import argparse\n",
    "from multiprocessing import Pool, set_start_method\n",
    "import matplotlib.pyplot as plt\n",
    "from tabulate import tabulate"
   ]
  },
  {
   "cell_type": "code",
   "execution_count": null,
   "id": "33fd17ab",
   "metadata": {},
   "outputs": [],
   "source": [
    "# Load configs\n",
    "config = load_config('./configs/sample.yml')\n",
    "seed_all(config.sample.seed)"
   ]
  },
  {
   "cell_type": "code",
   "execution_count": 29,
   "id": "09665f85",
   "metadata": {},
   "outputs": [],
   "source": [
    "def cal_metrics(mol_list, pdb_path, save_path):\n",
    "    qed_list, sa_list, Lip_list, qvina_list = [], [], [], []\n",
    "    rdmol_list = []\n",
    "    for mol in mol_list:\n",
    "        try:\n",
    "            Chem.MolFromSmiles(Chem.MolToSmiles(mol))\n",
    "            rdmol_list.append(mol)\n",
    "        except:\n",
    "            pass\n",
    "\n",
    "    for mol in rdmol_list:\n",
    "        qed_list.append(qed(mol))\n",
    "        sa_list.append(compute_sa_score(mol))\n",
    "        Lip_list.append(lipinski(mol))\n",
    "\n",
    "        try:\n",
    "            ligand_rdmol = Chem.AddHs(mol, addCoords=True)\n",
    "            UFFOptimizeMolecule(ligand_rdmol)\n",
    "            qvina_list.append(cal_docking(ligand_rdmol, pdb_path))\n",
    "        except:\n",
    "            qvina_list.append('nan')\n",
    "    \n",
    "    df = pd.DataFrame({'SMILES': [Chem.MolToSmiles(i) for i in rdmol_list], 'Qvina': qvina_list, 'QED': qed_list,\n",
    "                       'SA': sa_list, 'Lip': Lip_list})\n",
    "    df.to_csv(save_path + '.csv', index=False, mode='a')\n",
    "\n",
    "def gen_results_file(path, save_result_path):  \n",
    "    if not os.path.exists(save_result_path):\n",
    "        os.makedirs(save_result_path)\n",
    "    for result_dir in os.listdir(path):\n",
    "\n",
    "        mol_list = []\n",
    "        for file_name in os.listdir(path + result_dir):\n",
    "            if file_name == 'pocket_info.txt':\n",
    "                pdb_file_path = path + result_dir + '/' + file_name\n",
    "                with open(pdb_file_path, 'r') as file:\n",
    "                    pdb_name = file.readline()\n",
    "                pdb_path = os.path.join(config.dataset.path, pdb_name)\n",
    "            if file_name[-3:] == 'sdf':\n",
    "                sdf_dir = path + result_dir + '/' + file_name\n",
    "                mol_list.append(Chem.MolFromMolFile(sdf_dir))\n",
    "    \n",
    "        cal_metrics(mol_list, pdb_path, save_result_path + result_dir)\n",
    "\n",
    "def gen_results_file_resgen(path, save_result_path):  \n",
    "    for result_dir in os.listdir(path):\n",
    "        mol_list = []\n",
    "        for file_name in os.listdir(path + result_dir):\n",
    "            if file_name[-3:] == 'pdb':\n",
    "                pdb_path = path + result_dir + '/' + file_name\n",
    "            if file_name == 'SDF':\n",
    "                if len(os.listdir(path + result_dir + '/SDF/')) > 1:\n",
    "                    for sdf_name in os.listdir(path + result_dir + '/SDF/'):\n",
    "                        sdf_path = path + result_dir + '/SDF/' + sdf_name\n",
    "                        mol_list.append(Chem.MolFromMolFile(sdf_path))\n",
    "\n",
    "        cal_metrics(mol_list, pdb_path, save_result_path + result_dir)\n",
    "\n"
   ]
  },
  {
   "cell_type": "code",
   "execution_count": 30,
   "id": "7bb35865",
   "metadata": {},
   "outputs": [],
   "source": [
    "def cal_high_affinity(results_path, top_num, test_path='./baselines_results/testset/'):\n",
    "    high_affinity_result = []\n",
    "    mpbg_list = []\n",
    "    for test_name in os.listdir(test_path):\n",
    "        for results_name in os.listdir(results_path):\n",
    "            if test_name.split('-')[0] == results_name.split('-')[0]:\n",
    "                \n",
    "                test_value = pd.read_csv(test_path + test_name)['Qvina'].mean()\n",
    "                results_value = pd.read_csv(results_path + results_name).head(100)\n",
    "                results_value.sort_values(by='Qvina', inplace=True)\n",
    "\n",
    "                # cal MPBG\n",
    "                min_test_value = pd.read_csv(test_path + test_name)['Qvina'].mean()\n",
    "                sum_mpbg = 0\n",
    "                lenth = 0\n",
    "                for qvina in results_value.head(top_num)['Qvina'].values:\n",
    "                    if not np.isnan(qvina):\n",
    "                        sum_mpbg += ((min_test_value - qvina) / min_test_value)\n",
    "                        lenth += 1\n",
    "\n",
    "                mpbg_list.append(sum_mpbg / lenth)\n",
    "           \n",
    "                results_value = results_value.head(top_num)\n",
    "                high_affinity = (results_value['Qvina'] < test_value).sum()\n",
    "                high_affinity_result.append((high_affinity / top_num))\n",
    "   \n",
    "    return np.mean(high_affinity_result), np.std(high_affinity_result), np.mean(mpbg_list), np.std(mpbg_list)\n",
    "\n",
    "def read_and_process_file(file_path):\n",
    "    \"\"\"\n",
    "    Reads a CSV file, processes it, and returns a DataFrame.\n",
    "    \"\"\"\n",
    "    df = pd.read_csv(file_path, nrows=100)\n",
    "    df.iloc[:, ~df.columns.isin(['SMILES'])] = df.iloc[:, ~df.columns.isin(['SMILES'])].apply(pd.to_numeric, errors='coerce')\n",
    "    df.sort_values(by='Qvina', inplace=True)\n",
    "    return df\n",
    "\n",
    "def get_top_n_dfs(df, top_n_list):\n",
    "    \"\"\"\n",
    "    Returns a dictionary of DataFrames for each specified top N.\n",
    "    \"\"\"\n",
    "    return {n: df.head(n) for n in top_n_list}\n",
    "\n",
    "def calculate_statistics(path, top_dfs, top_nums):\n",
    "    \"\"\"\n",
    "    Calculates statistics for given top N DataFrames, adds a title, and prints them in a table format with top N as rows.\n",
    "    \"\"\"\n",
    "    all_stats = []\n",
    "\n",
    "    for top_num in top_nums:\n",
    "        top_df = top_dfs[top_num]\n",
    "        top_mean = top_df.mean().round(3)\n",
    "        top_std = top_df.std().round(2)\n",
    "     \n",
    "        high_affinity_mean, high_affinity_std, mpbg_mean, mpbg_std = cal_high_affinity(path, top_num)\n",
    "\n",
    "        stats = {\n",
    "            'Top': f'Top {top_num}',\n",
    "            'Qvina': f\"{top_mean['Qvina']} ± {top_std['Qvina']}\",\n",
    "            'HA': f\"{high_affinity_mean.round(3)} ± {high_affinity_std.round(2)}\",\n",
    "            'MPBG': f\"{mpbg_mean.round(3)} ± N/A\",\n",
    "            'QED': f\"{top_mean['QED']} ± {top_std['QED']}\",\n",
    "            'SA': f\"{top_mean['SA']} ± {top_std['SA']}\",\n",
    "            'Lipinski': f\"{top_mean['Lip']} ± {top_std['Lip']}\",  \n",
    "        }\n",
    "\n",
    "        all_stats.append(stats)\n",
    "\n",
    "    stats_df = pd.DataFrame(all_stats).set_index('Top')\n",
    "    print(tabulate(stats_df, headers='keys', tablefmt='pretty', showindex=True))\n",
    "    \n",
    "def cal_result(path):\n",
    "    top_n_list = [1, 3, 5, 10, 100]\n",
    "    top_dfs = {n: [] for n in top_n_list}\n",
    "    \n",
    "    result_files = [file_name for file_name in os.listdir(path) if file_name.endswith('.csv')]\n",
    "    \n",
    "    for file_name in result_files:\n",
    "        df = read_and_process_file(os.path.join(path, file_name))\n",
    "        for n, top_df in get_top_n_dfs(df, top_n_list).items():\n",
    "            top_dfs[n].append(top_df)\n",
    "            \n",
    "    # Concatenate all top N DataFrames\n",
    "    top_dfs = {n: pd.concat(dfs) for n, dfs in top_dfs.items()}\n",
    "    calculate_statistics(path, top_dfs, top_n_list)\n",
    "\n"
   ]
  },
  {
   "cell_type": "markdown",
   "id": "3da01999",
   "metadata": {},
   "source": [
    "## Ours"
   ]
  },
  {
   "cell_type": "code",
   "execution_count": 31,
   "id": "1828319f",
   "metadata": {},
   "outputs": [
    {
     "name": "stdout",
     "output_type": "stream",
     "text": [
      "+---------+----------------+--------------+--------------+--------------+--------------+--------------+\n",
      "|   Top   |     Qvina      |      HA      |     MPBG     |     QED      |      SA      |   Lipinski   |\n",
      "+---------+----------------+--------------+--------------+--------------+--------------+--------------+\n",
      "|  Top 1  | -10.201 ± 1.62 | 0.98 ± 0.14  | -1.519 ± N/A | 0.524 ± 0.15 | 0.514 ± 0.1  | 4.82 ± 0.39  |\n",
      "|  Top 3  | -9.765 ± 1.51  | 0.973 ± 0.15 | -1.425 ± N/A | 0.538 ± 0.15 | 0.514 ± 0.11 | 4.893 ± 0.31 |\n",
      "|  Top 5  | -9.508 ± 1.47  | 0.958 ± 0.17 | -1.366 ± N/A | 0.553 ± 0.15 | 0.512 ± 0.1  | 4.91 ± 0.29  |\n",
      "| Top 10  | -9.102 ± 1.42  | 0.928 ± 0.22 | -1.273 ± N/A | 0.56 ± 0.14  | 0.515 ± 0.11 | 4.932 ± 0.25 |\n",
      "| Top 100 |  -6.364 ± 2.3  | 0.492 ± 0.3  | -0.625 ± N/A | 0.543 ± 0.14 | 0.574 ± 0.14 | 4.976 ± 0.16 |\n",
      "+---------+----------------+--------------+--------------+--------------+--------------+--------------+\n"
     ]
    }
   ],
   "source": [
    "results_path = 'results/new/RL_np_reward_recovvery_ligand&protein/ckpt_200_results/'\n",
    "cal_result(results_path) "
   ]
  },
  {
   "cell_type": "markdown",
   "id": "8ed3b4be",
   "metadata": {},
   "source": [
    "## FLAG"
   ]
  },
  {
   "cell_type": "code",
   "execution_count": 12,
   "id": "b44ebe08",
   "metadata": {},
   "outputs": [
    {
     "name": "stdout",
     "output_type": "stream",
     "text": [
      "+---------+---------------+--------------+--------------+--------------+--------------+--------------+\n",
      "|   Top   |     Qvina     |      HA      |     MPBG     |     QED      |      SA      |   Lipinski   |\n",
      "+---------+---------------+--------------+--------------+--------------+--------------+--------------+\n",
      "|  Top 1  | -9.837 ± 1.6  |  0.96 ± 0.2  | -1.445 ± N/A | 0.436 ± 0.17 | 0.397 ± 0.13 | 4.28 ± 0.94  |\n",
      "|  Top 3  | -9.414 ± 1.48 | 0.93 ± 0.23  | -1.345 ± N/A | 0.458 ± 0.17 | 0.406 ± 0.12 | 4.377 ± 0.83 |\n",
      "|  Top 5  | -9.159 ± 1.42 | 0.908 ± 0.26 | -1.288 ± N/A | 0.468 ± 0.16 | 0.406 ± 0.12 | 4.432 ± 0.81 |\n",
      "| Top 10  | -8.756 ± 1.37 | 0.873 ± 0.29 | -1.186 ± N/A | 0.476 ± 0.16 | 0.415 ± 0.12 | 4.493 ± 0.76 |\n",
      "| Top 100 | -5.865 ± 3.59 | 0.46 ± 0.31  | -0.504 ± N/A | 0.495 ± 0.14 | 0.485 ± 0.14 | 4.794 ± 0.54 |\n",
      "+---------+---------------+--------------+--------------+--------------+--------------+--------------+\n"
     ]
    }
   ],
   "source": [
    "results_path = 'baselines_results/FLAG/'\n",
    "cal_result(results_path) "
   ]
  },
  {
   "cell_type": "markdown",
   "id": "3d2b75d0",
   "metadata": {},
   "source": [
    "## ResGen"
   ]
  },
  {
   "cell_type": "code",
   "execution_count": 11,
   "id": "f19fc98b",
   "metadata": {},
   "outputs": [
    {
     "name": "stdout",
     "output_type": "stream",
     "text": [
      "+---------+---------------+--------------+--------------+--------------+--------------+--------------+\n",
      "|   Top   |     Qvina     |      HA      |     MPBG     |     QED      |      SA      |   Lipinski   |\n",
      "+---------+---------------+--------------+--------------+--------------+--------------+--------------+\n",
      "|  Top 1  | -8.693 ± 2.3  | 0.91 ± 0.29  | -0.956 ± N/A | 0.567 ± 0.15 | 0.796 ± 0.12 | 4.94 ± 0.28  |\n",
      "|  Top 3  | -8.429 ± 2.25 | 0.883 ± 0.31 | -0.886 ± N/A | 0.566 ± 0.16 | 0.804 ± 0.12 | 4.913 ± 0.33 |\n",
      "|  Top 5  | -8.292 ± 2.21 | 0.856 ± 0.32 | -0.85 ± N/A  | 0.571 ± 0.16 | 0.802 ± 0.11 | 4.912 ± 0.34 |\n",
      "| Top 10  | -8.083 ± 2.16 | 0.824 ± 0.35 |  -0.8 ± N/A  | 0.579 ± 0.16 |  0.8 ± 0.11  | 4.908 ± 0.34 |\n",
      "| Top 100 | -6.591 ± 2.3  | 0.486 ± 0.36 | -0.492 ± N/A | 0.586 ± 0.16 | 0.794 ± 0.11 | 4.874 ± 0.42 |\n",
      "+---------+---------------+--------------+--------------+--------------+--------------+--------------+\n"
     ]
    }
   ],
   "source": [
    "results_path = 'baselines_results/ResGen/'\n",
    "cal_result(results_path) "
   ]
  },
  {
   "cell_type": "markdown",
   "id": "2e967d1a",
   "metadata": {},
   "source": [
    "## DecompDiff"
   ]
  },
  {
   "cell_type": "code",
   "execution_count": 14,
   "id": "cd171eab",
   "metadata": {},
   "outputs": [
    {
     "name": "stdout",
     "output_type": "stream",
     "text": [
      "+---------+---------------+--------------+--------------+--------------+--------------+--------------+\n",
      "|   Top   |     Qvina     |      HA      |     MPBG     |     QED      |      SA      |   Lipinski   |\n",
      "+---------+---------------+--------------+--------------+--------------+--------------+--------------+\n",
      "|  Top 1  | -8.485 ± 1.99 | 0.95 ± 0.22  | -0.994 ± N/A | 0.552 ± 0.19 | 0.656 ± 0.15 | 4.51 ± 0.82  |\n",
      "|  Top 3  | -8.116 ± 2.03 | 0.92 ± 0.25  | -0.778 ± N/A | 0.544 ± 0.2  | 0.66 ± 0.15  | 4.517 ± 0.85 |\n",
      "|  Top 5  | -7.946 ± 2.01 | 0.906 ± 0.27 | -0.718 ± N/A | 0.541 ± 0.2  | 0.662 ± 0.15 | 4.492 ± 0.89 |\n",
      "| Top 10  | -7.715 ± 1.97 | 0.864 ± 0.3  | -0.654 ± N/A | 0.539 ± 0.21 | 0.666 ± 0.15 | 4.435 ± 0.96 |\n",
      "| Top 100 | -6.495 ± 1.81 | 0.458 ± 0.34 | -0.424 ± N/A | 0.495 ± 0.22 | 0.653 ± 0.14 | 4.219 ± 1.1  |\n",
      "+---------+---------------+--------------+--------------+--------------+--------------+--------------+\n"
     ]
    }
   ],
   "source": [
    "results_path = 'baselines_results/DecompDiff/'\n",
    "cal_result(results_path) "
   ]
  },
  {
   "cell_type": "markdown",
   "id": "b3e08e7c",
   "metadata": {},
   "source": [
    "## TargetDiff"
   ]
  },
  {
   "cell_type": "code",
   "execution_count": 16,
   "id": "af367ba8",
   "metadata": {},
   "outputs": [
    {
     "name": "stdout",
     "output_type": "stream",
     "text": [
      "+---------+---------------+--------------+--------------+--------------+--------------+--------------+\n",
      "|   Top   |     Qvina     |      HA      |     MPBG     |     QED      |      SA      |   Lipinski   |\n",
      "+---------+---------------+--------------+--------------+--------------+--------------+--------------+\n",
      "|  Top 1  | -9.278 ± 1.75 | 0.94 ± 0.24  | -1.221 ± N/A | 0.426 ± 0.2  | 0.476 ± 0.12 | 4.42 ± 0.82  |\n",
      "|  Top 3  | -8.892 ± 1.68 | 0.923 ± 0.25 | -1.121 ± N/A | 0.457 ± 0.21 | 0.502 ± 0.12 | 4.453 ± 0.88 |\n",
      "|  Top 5  | -8.686 ± 1.65 | 0.908 ± 0.27 | -1.072 ± N/A | 0.453 ± 0.21 | 0.511 ± 0.12 | 4.446 ± 0.87 |\n",
      "| Top 10  | -8.37 ± 1.61  | 0.885 ± 0.29 | -0.998 ± N/A | 0.466 ± 0.2  | 0.523 ± 0.12 | 4.519 ± 0.79 |\n",
      "| Top 100 | -6.461 ± 1.93 | 0.477 ± 0.34 | -0.521 ± N/A | 0.455 ± 0.19 | 0.581 ± 0.13 | 4.488 ± 0.79 |\n",
      "+---------+---------------+--------------+--------------+--------------+--------------+--------------+\n"
     ]
    }
   ],
   "source": [
    "results_path = 'baselines_results/TargetDiff/'\n",
    "cal_result(results_path) "
   ]
  },
  {
   "cell_type": "markdown",
   "id": "ac4a1ca8",
   "metadata": {},
   "source": [
    "## Pocket2Mol"
   ]
  },
  {
   "cell_type": "code",
   "execution_count": 18,
   "id": "7a22b62e",
   "metadata": {},
   "outputs": [
    {
     "name": "stdout",
     "output_type": "stream",
     "text": [
      "+---------+---------------+--------------+--------------+--------------+--------------+--------------+\n",
      "|   Top   |     Qvina     |      HA      |     MPBG     |     QED      |      SA      |   Lipinski   |\n",
      "+---------+---------------+--------------+--------------+--------------+--------------+--------------+\n",
      "|  Top 1  | -8.785 ± 2.88 | 0.88 ± 0.32  | -0.95 ± N/A  | 0.517 ± 0.14 | 0.778 ± 0.13 | 4.95 ± 0.22  |\n",
      "|  Top 3  | -8.525 ± 2.9  | 0.827 ± 0.35 | -0.858 ± N/A | 0.525 ± 0.15 | 0.777 ± 0.12 | 4.947 ± 0.24 |\n",
      "|  Top 5  | -8.395 ± 2.88 | 0.804 ± 0.37 | -0.813 ± N/A | 0.528 ± 0.15 | 0.781 ± 0.12 | 4.946 ± 0.24 |\n",
      "| Top 10  | -8.19 ± 2.83  | 0.771 ± 0.39 | -0.76 ± N/A  | 0.53 ± 0.15  | 0.78 ± 0.12  | 4.941 ± 0.28 |\n",
      "| Top 100 | -6.662 ± 2.48 | 0.465 ± 0.36 | -0.452 ± N/A | 0.55 ± 0.14  | 0.786 ± 0.12 | 4.958 ± 0.25 |\n",
      "+---------+---------------+--------------+--------------+--------------+--------------+--------------+\n"
     ]
    }
   ],
   "source": [
    "results_path = 'baselines_results/Pocket2Mol/'\n",
    "cal_result(results_path) "
   ]
  },
  {
   "cell_type": "code",
   "execution_count": null,
   "id": "e923f1db",
   "metadata": {},
   "outputs": [],
   "source": []
  }
 ],
 "metadata": {
  "kernelspec": {
   "display_name": "Python 3 (ipykernel)",
   "language": "python",
   "name": "python3"
  },
  "language_info": {
   "codemirror_mode": {
    "name": "ipython",
    "version": 3
   },
   "file_extension": ".py",
   "mimetype": "text/x-python",
   "name": "python",
   "nbconvert_exporter": "python",
   "pygments_lexer": "ipython3",
   "version": "3.7.16"
  }
 },
 "nbformat": 4,
 "nbformat_minor": 5
}
